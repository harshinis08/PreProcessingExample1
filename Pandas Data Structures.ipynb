{
 "cells": [
  {
   "cell_type": "markdown",
   "metadata": {},
   "source": [
    "# Data Structures in Pandas"
   ]
  },
  {
   "cell_type": "markdown",
   "metadata": {},
   "source": [
    "Pandas has two different data structures:\n",
    "* Series\n",
    "* Data Frames\n",
    "\n",
    "Series represents data in 1D form while data frames represent data in 2D tabular form. \n",
    "\n",
    "Series - one dimensional array with labels\n",
    "\n",
    "Python dictionaries - data structures for storing key-value pairs"
   ]
  },
  {
   "cell_type": "code",
   "execution_count": 1,
   "metadata": {},
   "outputs": [],
   "source": [
    "import pandas as pd"
   ]
  },
  {
   "cell_type": "code",
   "execution_count": 2,
   "metadata": {},
   "outputs": [
    {
     "data": {
      "text/plain": [
       "a      3\n",
       "b    cat\n",
       "c    2.5\n",
       "dtype: object"
      ]
     },
     "execution_count": 2,
     "metadata": {},
     "output_type": "execute_result"
    }
   ],
   "source": [
    "dict = {'a': 3, 'b':'cat', 'c':2.5}\n",
    "pd.Series(dict)"
   ]
  },
  {
   "cell_type": "markdown",
   "metadata": {},
   "source": [
    "# Creating series using 2 lists"
   ]
  },
  {
   "cell_type": "code",
   "execution_count": 3,
   "metadata": {},
   "outputs": [
    {
     "data": {
      "text/plain": [
       "Amy      100\n",
       "Bobby    cat\n",
       "Cat      310\n",
       "Don      gog\n",
       "Emma     500\n",
       "dtype: object"
      ]
     },
     "execution_count": 3,
     "metadata": {},
     "output_type": "execute_result"
    }
   ],
   "source": [
    "val = pd.Series([100, 'cat', 310, 'gog', 500], ['Amy', 'Bobby', 'Cat', 'Don', 'Emma'])\n",
    "val"
   ]
  },
  {
   "cell_type": "code",
   "execution_count": 4,
   "metadata": {},
   "outputs": [
    {
     "data": {
      "text/plain": [
       "Cat     310\n",
       "Emma    500\n",
       "dtype: object"
      ]
     },
     "execution_count": 4,
     "metadata": {},
     "output_type": "execute_result"
    }
   ],
   "source": [
    "# loc is a label-location based indexer for selection by labels \n",
    "val.loc[['Cat', 'Emma']]"
   ]
  },
  {
   "cell_type": "code",
   "execution_count": 5,
   "metadata": {},
   "outputs": [
    {
     "data": {
      "text/plain": [
       "Amy     100\n",
       "Don     gog\n",
       "Emma    500\n",
       "dtype: object"
      ]
     },
     "execution_count": 5,
     "metadata": {},
     "output_type": "execute_result"
    }
   ],
   "source": [
    "val[[0,3,4]]"
   ]
  },
  {
   "cell_type": "code",
   "execution_count": 6,
   "metadata": {},
   "outputs": [
    {
     "data": {
      "text/plain": [
       "'cat'"
      ]
     },
     "execution_count": 6,
     "metadata": {},
     "output_type": "execute_result"
    }
   ],
   "source": [
    "# iloc is primarily integer based (from 0 to length-1 of the axis)\n",
    "val.iloc[1]"
   ]
  },
  {
   "cell_type": "code",
   "execution_count": 7,
   "metadata": {},
   "outputs": [
    {
     "data": {
      "text/plain": [
       "False"
      ]
     },
     "execution_count": 7,
     "metadata": {},
     "output_type": "execute_result"
    }
   ],
   "source": [
    "# check if there is a cat in the Series index\n",
    "\n",
    "'cat' in val"
   ]
  },
  {
   "cell_type": "code",
   "execution_count": 8,
   "metadata": {},
   "outputs": [
    {
     "data": {
      "text/plain": [
       "True"
      ]
     },
     "execution_count": 8,
     "metadata": {},
     "output_type": "execute_result"
    }
   ],
   "source": [
    "'Cat' in val"
   ]
  },
  {
   "cell_type": "markdown",
   "metadata": {},
   "source": [
    "DataFrames - 2D data structure stores data in tabular form (rows and columns)\n",
    "* <class 'pandas.core.frame.DataFrame'>"
   ]
  },
  {
   "cell_type": "code",
   "execution_count": 9,
   "metadata": {},
   "outputs": [],
   "source": [
    "d = {'A': pd.Series([100., 200., 300.], index = ['apple','pear','orange']),\n",
    "     'B': pd.Series([111.,222.,333.,444.], index = ['apple','pear','orange','melon'])}"
   ]
  },
  {
   "cell_type": "code",
   "execution_count": 10,
   "metadata": {},
   "outputs": [
    {
     "name": "stdout",
     "output_type": "stream",
     "text": [
      "            A      B\n",
      "apple   100.0  111.0\n",
      "melon     NaN  444.0\n",
      "orange  300.0  333.0\n",
      "pear    200.0  222.0\n"
     ]
    }
   ],
   "source": [
    "df = pd.DataFrame(d)\n",
    "print(df)"
   ]
  },
  {
   "cell_type": "code",
   "execution_count": 11,
   "metadata": {},
   "outputs": [
    {
     "name": "stdout",
     "output_type": "stream",
     "text": [
      "<class 'pandas.core.frame.DataFrame'>\n"
     ]
    }
   ],
   "source": [
    "print(type(df))"
   ]
  },
  {
   "cell_type": "code",
   "execution_count": 12,
   "metadata": {},
   "outputs": [
    {
     "data": {
      "text/plain": [
       "Index(['apple', 'melon', 'orange', 'pear'], dtype='object')"
      ]
     },
     "execution_count": 12,
     "metadata": {},
     "output_type": "execute_result"
    }
   ],
   "source": [
    "df.index"
   ]
  },
  {
   "cell_type": "code",
   "execution_count": 13,
   "metadata": {},
   "outputs": [
    {
     "data": {
      "text/plain": [
       "Index(['A', 'B'], dtype='object')"
      ]
     },
     "execution_count": 13,
     "metadata": {},
     "output_type": "execute_result"
    }
   ],
   "source": [
    "df.columns"
   ]
  },
  {
   "cell_type": "code",
   "execution_count": 14,
   "metadata": {},
   "outputs": [
    {
     "data": {
      "text/html": [
       "<div>\n",
       "<style scoped>\n",
       "    .dataframe tbody tr th:only-of-type {\n",
       "        vertical-align: middle;\n",
       "    }\n",
       "\n",
       "    .dataframe tbody tr th {\n",
       "        vertical-align: top;\n",
       "    }\n",
       "\n",
       "    .dataframe thead th {\n",
       "        text-align: right;\n",
       "    }\n",
       "</style>\n",
       "<table border=\"1\" class=\"dataframe\">\n",
       "  <thead>\n",
       "    <tr style=\"text-align: right;\">\n",
       "      <th></th>\n",
       "      <th>A</th>\n",
       "    </tr>\n",
       "  </thead>\n",
       "  <tbody>\n",
       "    <tr>\n",
       "      <td>orange</td>\n",
       "      <td>300.0</td>\n",
       "    </tr>\n",
       "    <tr>\n",
       "      <td>melon</td>\n",
       "      <td>NaN</td>\n",
       "    </tr>\n",
       "    <tr>\n",
       "      <td>apple</td>\n",
       "      <td>100.0</td>\n",
       "    </tr>\n",
       "  </tbody>\n",
       "</table>\n",
       "</div>"
      ],
      "text/plain": [
       "            A\n",
       "orange  300.0\n",
       "melon     NaN\n",
       "apple   100.0"
      ]
     },
     "execution_count": 14,
     "metadata": {},
     "output_type": "execute_result"
    }
   ],
   "source": [
    "pd.DataFrame(df, index=['orange', 'melon','apple'], columns=['A'])"
   ]
  },
  {
   "cell_type": "markdown",
   "metadata": {},
   "source": [
    "# Read csv files"
   ]
  },
  {
   "cell_type": "code",
   "execution_count": 15,
   "metadata": {},
   "outputs": [],
   "source": [
    "df = pd.read_csv('Resp2.csv')"
   ]
  },
  {
   "cell_type": "code",
   "execution_count": 16,
   "metadata": {},
   "outputs": [
    {
     "data": {
      "text/html": [
       "<div>\n",
       "<style scoped>\n",
       "    .dataframe tbody tr th:only-of-type {\n",
       "        vertical-align: middle;\n",
       "    }\n",
       "\n",
       "    .dataframe tbody tr th {\n",
       "        vertical-align: top;\n",
       "    }\n",
       "\n",
       "    .dataframe thead th {\n",
       "        text-align: right;\n",
       "    }\n",
       "</style>\n",
       "<table border=\"1\" class=\"dataframe\">\n",
       "  <thead>\n",
       "    <tr style=\"text-align: right;\">\n",
       "      <th></th>\n",
       "      <th>experience</th>\n",
       "      <th>respiration</th>\n",
       "    </tr>\n",
       "  </thead>\n",
       "  <tbody>\n",
       "    <tr>\n",
       "      <td>0</td>\n",
       "      <td>0</td>\n",
       "      <td>3.94</td>\n",
       "    </tr>\n",
       "    <tr>\n",
       "      <td>1</td>\n",
       "      <td>0</td>\n",
       "      <td>4.26</td>\n",
       "    </tr>\n",
       "    <tr>\n",
       "      <td>2</td>\n",
       "      <td>0</td>\n",
       "      <td>4.16</td>\n",
       "    </tr>\n",
       "    <tr>\n",
       "      <td>3</td>\n",
       "      <td>0</td>\n",
       "      <td>3.76</td>\n",
       "    </tr>\n",
       "    <tr>\n",
       "      <td>4</td>\n",
       "      <td>0</td>\n",
       "      <td>4.07</td>\n",
       "    </tr>\n",
       "  </tbody>\n",
       "</table>\n",
       "</div>"
      ],
      "text/plain": [
       "   experience  respiration\n",
       "0           0         3.94\n",
       "1           0         4.26\n",
       "2           0         4.16\n",
       "3           0         3.76\n",
       "4           0         4.07"
      ]
     },
     "execution_count": 16,
     "metadata": {},
     "output_type": "execute_result"
    }
   ],
   "source": [
    "df.head()"
   ]
  },
  {
   "cell_type": "code",
   "execution_count": 17,
   "metadata": {},
   "outputs": [
    {
     "data": {
      "text/html": [
       "<div>\n",
       "<style scoped>\n",
       "    .dataframe tbody tr th:only-of-type {\n",
       "        vertical-align: middle;\n",
       "    }\n",
       "\n",
       "    .dataframe tbody tr th {\n",
       "        vertical-align: top;\n",
       "    }\n",
       "\n",
       "    .dataframe thead th {\n",
       "        text-align: right;\n",
       "    }\n",
       "</style>\n",
       "<table border=\"1\" class=\"dataframe\">\n",
       "  <thead>\n",
       "    <tr style=\"text-align: right;\">\n",
       "      <th></th>\n",
       "      <th>fixed acidity</th>\n",
       "      <th>volatile acidity</th>\n",
       "      <th>citric acid</th>\n",
       "      <th>residual sugar</th>\n",
       "      <th>chlorides</th>\n",
       "      <th>free sulfur dioxide</th>\n",
       "      <th>total sulfur dioxide</th>\n",
       "      <th>density</th>\n",
       "      <th>pH</th>\n",
       "      <th>sulphates</th>\n",
       "      <th>alcohol</th>\n",
       "      <th>quality</th>\n",
       "    </tr>\n",
       "  </thead>\n",
       "  <tbody>\n",
       "    <tr>\n",
       "      <td>0</td>\n",
       "      <td>7.4</td>\n",
       "      <td>0.70</td>\n",
       "      <td>0.00</td>\n",
       "      <td>1.9</td>\n",
       "      <td>0.076</td>\n",
       "      <td>11.0</td>\n",
       "      <td>34.0</td>\n",
       "      <td>0.9978</td>\n",
       "      <td>3.51</td>\n",
       "      <td>0.56</td>\n",
       "      <td>9.4</td>\n",
       "      <td>5</td>\n",
       "    </tr>\n",
       "    <tr>\n",
       "      <td>1</td>\n",
       "      <td>7.8</td>\n",
       "      <td>0.88</td>\n",
       "      <td>0.00</td>\n",
       "      <td>2.6</td>\n",
       "      <td>0.098</td>\n",
       "      <td>25.0</td>\n",
       "      <td>67.0</td>\n",
       "      <td>0.9968</td>\n",
       "      <td>3.20</td>\n",
       "      <td>0.68</td>\n",
       "      <td>9.8</td>\n",
       "      <td>5</td>\n",
       "    </tr>\n",
       "    <tr>\n",
       "      <td>2</td>\n",
       "      <td>7.8</td>\n",
       "      <td>0.76</td>\n",
       "      <td>0.04</td>\n",
       "      <td>2.3</td>\n",
       "      <td>0.092</td>\n",
       "      <td>15.0</td>\n",
       "      <td>54.0</td>\n",
       "      <td>0.9970</td>\n",
       "      <td>3.26</td>\n",
       "      <td>0.65</td>\n",
       "      <td>9.8</td>\n",
       "      <td>5</td>\n",
       "    </tr>\n",
       "    <tr>\n",
       "      <td>3</td>\n",
       "      <td>11.2</td>\n",
       "      <td>0.28</td>\n",
       "      <td>0.56</td>\n",
       "      <td>1.9</td>\n",
       "      <td>0.075</td>\n",
       "      <td>17.0</td>\n",
       "      <td>60.0</td>\n",
       "      <td>0.9980</td>\n",
       "      <td>3.16</td>\n",
       "      <td>0.58</td>\n",
       "      <td>9.8</td>\n",
       "      <td>6</td>\n",
       "    </tr>\n",
       "    <tr>\n",
       "      <td>4</td>\n",
       "      <td>7.4</td>\n",
       "      <td>0.70</td>\n",
       "      <td>0.00</td>\n",
       "      <td>1.9</td>\n",
       "      <td>0.076</td>\n",
       "      <td>11.0</td>\n",
       "      <td>34.0</td>\n",
       "      <td>0.9978</td>\n",
       "      <td>3.51</td>\n",
       "      <td>0.56</td>\n",
       "      <td>9.4</td>\n",
       "      <td>5</td>\n",
       "    </tr>\n",
       "  </tbody>\n",
       "</table>\n",
       "</div>"
      ],
      "text/plain": [
       "   fixed acidity  volatile acidity  citric acid  residual sugar  chlorides  \\\n",
       "0            7.4              0.70         0.00             1.9      0.076   \n",
       "1            7.8              0.88         0.00             2.6      0.098   \n",
       "2            7.8              0.76         0.04             2.3      0.092   \n",
       "3           11.2              0.28         0.56             1.9      0.075   \n",
       "4            7.4              0.70         0.00             1.9      0.076   \n",
       "\n",
       "   free sulfur dioxide  total sulfur dioxide  density    pH  sulphates  \\\n",
       "0                 11.0                  34.0   0.9978  3.51       0.56   \n",
       "1                 25.0                  67.0   0.9968  3.20       0.68   \n",
       "2                 15.0                  54.0   0.9970  3.26       0.65   \n",
       "3                 17.0                  60.0   0.9980  3.16       0.58   \n",
       "4                 11.0                  34.0   0.9978  3.51       0.56   \n",
       "\n",
       "   alcohol  quality  \n",
       "0      9.4        5  \n",
       "1      9.8        5  \n",
       "2      9.8        5  \n",
       "3      9.8        6  \n",
       "4      9.4        5  "
      ]
     },
     "execution_count": 17,
     "metadata": {},
     "output_type": "execute_result"
    }
   ],
   "source": [
    "#reading comma separated files with .csv extension\n",
    "df2 = pd.read_csv('winequality-red.csv', sep =';')\n",
    "df2.head()"
   ]
  },
  {
   "cell_type": "markdown",
   "metadata": {},
   "source": [
    "# Reading txt files"
   ]
  },
  {
   "cell_type": "code",
   "execution_count": 18,
   "metadata": {},
   "outputs": [
    {
     "data": {
      "text/html": [
       "<div>\n",
       "<style scoped>\n",
       "    .dataframe tbody tr th:only-of-type {\n",
       "        vertical-align: middle;\n",
       "    }\n",
       "\n",
       "    .dataframe tbody tr th {\n",
       "        vertical-align: top;\n",
       "    }\n",
       "\n",
       "    .dataframe thead th {\n",
       "        text-align: right;\n",
       "    }\n",
       "</style>\n",
       "<table border=\"1\" class=\"dataframe\">\n",
       "  <thead>\n",
       "    <tr style=\"text-align: right;\">\n",
       "      <th></th>\n",
       "      <th>MV</th>\n",
       "      <th>INDUS</th>\n",
       "      <th>NOX</th>\n",
       "      <th>RM</th>\n",
       "      <th>TAX</th>\n",
       "      <th>PT</th>\n",
       "      <th>LSTAT</th>\n",
       "    </tr>\n",
       "  </thead>\n",
       "  <tbody>\n",
       "    <tr>\n",
       "      <td>0</td>\n",
       "      <td>24.0</td>\n",
       "      <td>2.31</td>\n",
       "      <td>53.8</td>\n",
       "      <td>6.575</td>\n",
       "      <td>296</td>\n",
       "      <td>15.3</td>\n",
       "      <td>4.98</td>\n",
       "    </tr>\n",
       "    <tr>\n",
       "      <td>1</td>\n",
       "      <td>21.6</td>\n",
       "      <td>7.07</td>\n",
       "      <td>46.9</td>\n",
       "      <td>6.421</td>\n",
       "      <td>242</td>\n",
       "      <td>17.8</td>\n",
       "      <td>9.14</td>\n",
       "    </tr>\n",
       "    <tr>\n",
       "      <td>2</td>\n",
       "      <td>34.7</td>\n",
       "      <td>7.07</td>\n",
       "      <td>46.9</td>\n",
       "      <td>7.185</td>\n",
       "      <td>242</td>\n",
       "      <td>17.8</td>\n",
       "      <td>4.03</td>\n",
       "    </tr>\n",
       "    <tr>\n",
       "      <td>3</td>\n",
       "      <td>33.4</td>\n",
       "      <td>2.18</td>\n",
       "      <td>45.8</td>\n",
       "      <td>6.998</td>\n",
       "      <td>222</td>\n",
       "      <td>18.7</td>\n",
       "      <td>2.94</td>\n",
       "    </tr>\n",
       "    <tr>\n",
       "      <td>4</td>\n",
       "      <td>36.2</td>\n",
       "      <td>2.18</td>\n",
       "      <td>45.8</td>\n",
       "      <td>7.147</td>\n",
       "      <td>222</td>\n",
       "      <td>18.7</td>\n",
       "      <td>5.33</td>\n",
       "    </tr>\n",
       "  </tbody>\n",
       "</table>\n",
       "</div>"
      ],
      "text/plain": [
       "     MV  INDUS   NOX     RM  TAX    PT  LSTAT\n",
       "0  24.0   2.31  53.8  6.575  296  15.3   4.98\n",
       "1  21.6   7.07  46.9  6.421  242  17.8   9.14\n",
       "2  34.7   7.07  46.9  7.185  242  17.8   4.03\n",
       "3  33.4   2.18  45.8  6.998  222  18.7   2.94\n",
       "4  36.2   2.18  45.8  7.147  222  18.7   5.33"
      ]
     },
     "execution_count": 18,
     "metadata": {},
     "output_type": "execute_result"
    }
   ],
   "source": [
    "df3 = pd.read_csv('bostonTxt.txt', sep = '\\t')\n",
    "df3.head()"
   ]
  },
  {
   "cell_type": "markdown",
   "metadata": {},
   "source": [
    "# Reading xls files"
   ]
  },
  {
   "cell_type": "markdown",
   "metadata": {},
   "source": [
    "Advantage of xls files over csv and txt files is that it has multiple sheets"
   ]
  },
  {
   "cell_type": "code",
   "execution_count": 32,
   "metadata": {},
   "outputs": [
    {
     "name": "stdout",
     "output_type": "stream",
     "text": [
      "['Sheet1', 'Sheet2']\n"
     ]
    }
   ],
   "source": [
    "xl = pd.ExcelFile(r'C:\\Users\\hsripuram\\Desktop\\MLPractice\\PreProcessing\\boston1.xls')\n",
    "print(xl.sheet_names)"
   ]
  },
  {
   "cell_type": "code",
   "execution_count": 34,
   "metadata": {},
   "outputs": [
    {
     "data": {
      "text/html": [
       "<div>\n",
       "<style scoped>\n",
       "    .dataframe tbody tr th:only-of-type {\n",
       "        vertical-align: middle;\n",
       "    }\n",
       "\n",
       "    .dataframe tbody tr th {\n",
       "        vertical-align: top;\n",
       "    }\n",
       "\n",
       "    .dataframe thead th {\n",
       "        text-align: right;\n",
       "    }\n",
       "</style>\n",
       "<table border=\"1\" class=\"dataframe\">\n",
       "  <thead>\n",
       "    <tr style=\"text-align: right;\">\n",
       "      <th></th>\n",
       "      <th>MV</th>\n",
       "      <th>INDUS</th>\n",
       "      <th>NOX</th>\n",
       "      <th>RM</th>\n",
       "      <th>TAX</th>\n",
       "      <th>PT</th>\n",
       "      <th>LSTAT</th>\n",
       "      <th>Unnamed: 7</th>\n",
       "      <th>Unnamed: 8</th>\n",
       "      <th>Unnamed: 9</th>\n",
       "    </tr>\n",
       "  </thead>\n",
       "  <tbody>\n",
       "    <tr>\n",
       "      <td>0</td>\n",
       "      <td>24.0</td>\n",
       "      <td>2.31</td>\n",
       "      <td>53.8</td>\n",
       "      <td>6.575</td>\n",
       "      <td>296</td>\n",
       "      <td>15.3</td>\n",
       "      <td>4.98</td>\n",
       "      <td>NaN</td>\n",
       "      <td>NaN</td>\n",
       "      <td>Subset of Boston housing tract</td>\n",
       "    </tr>\n",
       "    <tr>\n",
       "      <td>1</td>\n",
       "      <td>21.6</td>\n",
       "      <td>7.07</td>\n",
       "      <td>46.9</td>\n",
       "      <td>6.421</td>\n",
       "      <td>242</td>\n",
       "      <td>17.8</td>\n",
       "      <td>9.14</td>\n",
       "      <td>NaN</td>\n",
       "      <td>NaN</td>\n",
       "      <td>data of Harrison and Rubinfeld</td>\n",
       "    </tr>\n",
       "    <tr>\n",
       "      <td>2</td>\n",
       "      <td>34.7</td>\n",
       "      <td>7.07</td>\n",
       "      <td>46.9</td>\n",
       "      <td>7.185</td>\n",
       "      <td>242</td>\n",
       "      <td>17.8</td>\n",
       "      <td>4.03</td>\n",
       "      <td>NaN</td>\n",
       "      <td>NaN</td>\n",
       "      <td>(1978).  Each case is one U.S.</td>\n",
       "    </tr>\n",
       "    <tr>\n",
       "      <td>3</td>\n",
       "      <td>33.4</td>\n",
       "      <td>2.18</td>\n",
       "      <td>45.8</td>\n",
       "      <td>6.998</td>\n",
       "      <td>222</td>\n",
       "      <td>18.7</td>\n",
       "      <td>2.94</td>\n",
       "      <td>NaN</td>\n",
       "      <td>NaN</td>\n",
       "      <td>Census tract in the Boston area.</td>\n",
       "    </tr>\n",
       "    <tr>\n",
       "      <td>4</td>\n",
       "      <td>36.2</td>\n",
       "      <td>2.18</td>\n",
       "      <td>45.8</td>\n",
       "      <td>7.147</td>\n",
       "      <td>222</td>\n",
       "      <td>18.7</td>\n",
       "      <td>5.33</td>\n",
       "      <td>NaN</td>\n",
       "      <td>NaN</td>\n",
       "      <td>NaN</td>\n",
       "    </tr>\n",
       "  </tbody>\n",
       "</table>\n",
       "</div>"
      ],
      "text/plain": [
       "     MV  INDUS   NOX     RM  TAX    PT  LSTAT  Unnamed: 7  Unnamed: 8  \\\n",
       "0  24.0   2.31  53.8  6.575  296  15.3   4.98         NaN         NaN   \n",
       "1  21.6   7.07  46.9  6.421  242  17.8   9.14         NaN         NaN   \n",
       "2  34.7   7.07  46.9  7.185  242  17.8   4.03         NaN         NaN   \n",
       "3  33.4   2.18  45.8  6.998  222  18.7   2.94         NaN         NaN   \n",
       "4  36.2   2.18  45.8  7.147  222  18.7   5.33         NaN         NaN   \n",
       "\n",
       "                         Unnamed: 9  \n",
       "0    Subset of Boston housing tract  \n",
       "1    data of Harrison and Rubinfeld  \n",
       "2    (1978).  Each case is one U.S.  \n",
       "3  Census tract in the Boston area.  \n",
       "4                               NaN  "
      ]
     },
     "execution_count": 34,
     "metadata": {},
     "output_type": "execute_result"
    }
   ],
   "source": [
    "df5 = xl.parse('Sheet1')\n",
    "\n",
    "df5.head() "
   ]
  },
  {
   "cell_type": "markdown",
   "metadata": {},
   "source": [
    "# Web Scraping"
   ]
  },
  {
   "cell_type": "code",
   "execution_count": 35,
   "metadata": {},
   "outputs": [],
   "source": [
    "import html5lib"
   ]
  },
  {
   "cell_type": "code",
   "execution_count": 36,
   "metadata": {},
   "outputs": [],
   "source": [
    "uss = pd.read_html('https://simple.wikipedia.org/wiki/List_of_U.S._states')"
   ]
  },
  {
   "cell_type": "code",
   "execution_count": 37,
   "metadata": {},
   "outputs": [
    {
     "name": "stdout",
     "output_type": "stream",
     "text": [
      "<class 'list'>\n"
     ]
    }
   ],
   "source": [
    "print(type(uss)) # this is list of DataFrames"
   ]
  },
  {
   "cell_type": "code",
   "execution_count": 38,
   "metadata": {},
   "outputs": [
    {
     "name": "stdout",
     "output_type": "stream",
     "text": [
      "                            Name postal abbreviation[1]          Cities  \\\n",
      "                            Name postal abbreviation[1]         Capital   \n",
      "0                        Alabama                     AL      Montgomery   \n",
      "1                         Alaska                     AK          Juneau   \n",
      "2                        Arizona                     AZ         Phoenix   \n",
      "3                       Arkansas                     AR     Little Rock   \n",
      "4                     California                     CA      Sacramento   \n",
      "5                       Colorado                     CO          Denver   \n",
      "6                    Connecticut                     CT        Hartford   \n",
      "7                       Delaware                     DE           Dover   \n",
      "8                        Florida                     FL     Tallahassee   \n",
      "9                        Georgia                     GA         Atlanta   \n",
      "10                        Hawaii                     HI        Honolulu   \n",
      "11                         Idaho                     ID           Boise   \n",
      "12                      Illinois                     IL     Springfield   \n",
      "13                       Indiana                     IN    Indianapolis   \n",
      "14                          Iowa                     IA      Des Moines   \n",
      "15                        Kansas                     KS          Topeka   \n",
      "16       Kentucky[upper-alpha 3]                     KY       Frankfort   \n",
      "17                     Louisiana                     LA     Baton Rouge   \n",
      "18                         Maine                     ME         Augusta   \n",
      "19                      Maryland                     MD       Annapolis   \n",
      "20  Massachusetts[upper-alpha 3]                     MA          Boston   \n",
      "21                      Michigan                     MI         Lansing   \n",
      "22                     Minnesota                     MN        St. Paul   \n",
      "23                   Mississippi                     MS         Jackson   \n",
      "24                      Missouri                     MO  Jefferson City   \n",
      "25                       Montana                     MT          Helena   \n",
      "26                      Nebraska                     NE         Lincoln   \n",
      "27                        Nevada                     NV     Carson City   \n",
      "28                 New Hampshire                     NH         Concord   \n",
      "29                    New Jersey                     NJ         Trenton   \n",
      "30                    New Mexico                     NM        Santa Fe   \n",
      "31                      New York                     NY          Albany   \n",
      "32                North Carolina                     NC         Raleigh   \n",
      "33                  North Dakota                     ND        Bismarck   \n",
      "34                          Ohio                     OH        Columbus   \n",
      "35                      Oklahoma                     OK   Oklahoma City   \n",
      "36                        Oregon                     OR           Salem   \n",
      "37   Pennsylvania[upper-alpha 3]                     PA      Harrisburg   \n",
      "38   Rhode Island[upper-alpha 4]                     RI      Providence   \n",
      "39                South Carolina                     SC        Columbia   \n",
      "40                  South Dakota                     SD          Pierre   \n",
      "41                     Tennessee                     TN       Nashville   \n",
      "42                         Texas                     TX          Austin   \n",
      "43                          Utah                     UT  Salt Lake City   \n",
      "44                       Vermont                     VT      Montpelier   \n",
      "45       Virginia[upper-alpha 3]                     VA        Richmond   \n",
      "46                    Washington                     WA         Olympia   \n",
      "47                 West Virginia                     WV      Charleston   \n",
      "48                     Wisconsin                     WI         Madison   \n",
      "49                       Wyoming                     WY        Cheyenne   \n",
      "\n",
      "                   Established[upper-alpha 1] Population[upper-alpha 2][3]  \\\n",
      "        Largest[5] Established[upper-alpha 1] Population[upper-alpha 2][3]   \n",
      "0       Birmingham               Dec 14, 1819                      4874747   \n",
      "1        Anchorage                Jan 3, 1959                       739795   \n",
      "2          Phoenix               Feb 14, 1912                      7016270   \n",
      "3      Little Rock               Jun 15, 1836                      3004279   \n",
      "4      Los Angeles                Sep 9, 1850                     39536653   \n",
      "5           Denver                Aug 1, 1876                      5607154   \n",
      "6       Bridgeport                Jan 9, 1788                      3588184   \n",
      "7       Wilmington                Dec 7, 1787                       961939   \n",
      "8     Jacksonville                Mar 3, 1845                     20984400   \n",
      "9          Atlanta                Jan 2, 1788                     10429379   \n",
      "10        Honolulu               Aug 21, 1959                      1427538   \n",
      "11           Boise                Jul 3, 1890                      1716943   \n",
      "12         Chicago                Dec 3, 1818                     12802023   \n",
      "13    Indianapolis               Dec 11, 1816                      6666818   \n",
      "14      Des Moines               Dec 28, 1846                      3145711   \n",
      "15         Wichita               Jan 29, 1861                      2913123   \n",
      "16      Louisville                Jun 1, 1792                      4454189   \n",
      "17     New Orleans               Apr 30, 1812                      4684333   \n",
      "18        Portland               Mar 15, 1820                      1335907   \n",
      "19       Baltimore               Apr 28, 1788                      6052177   \n",
      "20          Boston                Feb 6, 1788                      6859819   \n",
      "21         Detroit               Jan 26, 1837                      9962311   \n",
      "22     Minneapolis               May 11, 1858                      5576606   \n",
      "23         Jackson               Dec 10, 1817                      2984100   \n",
      "24     Kansas City               Aug 10, 1821                      6113532   \n",
      "25        Billings                Nov 8, 1889                      1050493   \n",
      "26           Omaha                Mar 1, 1867                      1920076   \n",
      "27       Las Vegas               Oct 31, 1864                      2998039   \n",
      "28      Manchester               Jun 21, 1788                      1342795   \n",
      "29          Newark               Dec 18, 1787                      9005644   \n",
      "30     Albuquerque                Jan 6, 1912                      2088070   \n",
      "31        New York               Jul 26, 1788                     19849399   \n",
      "32       Charlotte               Nov 21, 1789                     10273419   \n",
      "33           Fargo                Nov 2, 1889                       755393   \n",
      "34        Columbus                Mar 1, 1803                     11658609   \n",
      "35   Oklahoma City               Nov 16, 1907                      3930864   \n",
      "36        Portland               Feb 14, 1859                      4142776   \n",
      "37    Philadelphia               Dec 12, 1787                     12805537   \n",
      "38      Providence               May 29, 1790                      1059639   \n",
      "39      Charleston               May 23, 1788                      5024369   \n",
      "40     Sioux Falls                Nov 2, 1889                       869666   \n",
      "41       Nashville                Jun 1, 1796                      6715984   \n",
      "42         Houston               Dec 29, 1845                     28304596   \n",
      "43  Salt Lake City                Jan 4, 1896                      3101833   \n",
      "44      Burlington                Mar 4, 1791                       623657   \n",
      "45  Virginia Beach               Jun 25, 1788                      8470020   \n",
      "46         Seattle               Nov 11, 1889                      7405743   \n",
      "47      Charleston               Jun 20, 1863                      1815857   \n",
      "48       Milwaukee               May 29, 1848                      5795483   \n",
      "49        Cheyenne               Jul 10, 1890                       579315   \n",
      "\n",
      "   Total area[4]          Land area[4]          Water area[4]          \\\n",
      "             mi2      km2          mi2      km2           mi2     km2   \n",
      "0          52420   135767        50645   131171          1775    4597   \n",
      "1         665384  1723337       570641  1477953         94743  245384   \n",
      "2         113990   295234       113594   294207           396    1026   \n",
      "3          53179   137732        52035   134771          1143    2961   \n",
      "4         163695   423967       155779   403466          7916   20501   \n",
      "5         104094   269601       103642   268431           452    1170   \n",
      "6           5543    14357         4842    12542           701    1816   \n",
      "7           2489     6446         1949     5047           540    1399   \n",
      "8          65758   170312        53625   138887         12133   31424   \n",
      "9          59425   153910        57513   148959          1912    4951   \n",
      "10         10932    28313         6423    16635          4509   11678   \n",
      "11         83569   216443        82643   214045           926    2398   \n",
      "12         57914   149995        55519   143793          2395    6202   \n",
      "13         36420    94326        35826    92789           593    1537   \n",
      "14         56273   145746        55857   144669           416    1077   \n",
      "15         82278   213100        81759   211754           520    1346   \n",
      "16         40408   104656        39486   102269           921    2387   \n",
      "17         52378   135659        43204   111898          9174   23761   \n",
      "18         35380    91633        30843    79883          4537   11750   \n",
      "19         12406    32131         9707    25142          2699    6990   \n",
      "20         10554    27336         7800    20202          2754    7134   \n",
      "21         96714   250487        56539   146435         40175  104052   \n",
      "22         86936   225163        79627   206232          7309   18930   \n",
      "23         48432   125438        46923   121531          1508    3907   \n",
      "24         69707   180540        68742   178040           965    2501   \n",
      "25        147040   380831       145546   376962          1494    3869   \n",
      "26         77348   200330        76824   198974           524    1356   \n",
      "27        110572   286380       109781   284332           791    2048   \n",
      "28          9349    24214         8953    23187           397    1027   \n",
      "29          8723    22591         7354    19047          1368    3544   \n",
      "30        121590   314917       121298   314161           292     757   \n",
      "31         54555   141297        47126   122057          7429   19240   \n",
      "32         53819   139391        48618   125920          5201   13471   \n",
      "33         70698   183108        69001   178711          1698    4397   \n",
      "34         44826   116098        40861   105829          3965   10269   \n",
      "35         69899   181037        68595   177660          1304    3377   \n",
      "36         98379   254799        95988   248608          2391    6191   \n",
      "37         46054   119280        44743   115883          1312    3397   \n",
      "38          1545     4001         1034     2678           511    1324   \n",
      "39         32020    82933        30061    77857          1960    5076   \n",
      "40         77116   199729        75811   196350          1305    3379   \n",
      "41         42144   109153        41235   106798           909    2355   \n",
      "42        268596   695662       261232   676587          7365   19075   \n",
      "43         84897   219882        82170   212818          2727    7064   \n",
      "44          9616    24906         9217    23871           400    1035   \n",
      "45         42775   110787        39490   102279          3285    8508   \n",
      "46         71298   184661        66456   172119          4842   12542   \n",
      "47         24230    62756        24038    62259           192     497   \n",
      "48         65496   169635        54158   140268         11339   29367   \n",
      "49         97813   253335        97093   251470           720    1864   \n",
      "\n",
      "   Numberof Reps.  \n",
      "   Numberof Reps.  \n",
      "0               7  \n",
      "1               1  \n",
      "2               9  \n",
      "3               4  \n",
      "4              53  \n",
      "5               7  \n",
      "6               5  \n",
      "7               1  \n",
      "8              27  \n",
      "9              14  \n",
      "10              2  \n",
      "11              2  \n",
      "12             18  \n",
      "13              9  \n",
      "14              4  \n",
      "15              4  \n",
      "16              6  \n",
      "17              6  \n",
      "18              2  \n",
      "19              8  \n",
      "20              9  \n",
      "21             14  \n",
      "22              8  \n",
      "23              4  \n",
      "24              8  \n",
      "25              1  \n",
      "26              3  \n",
      "27              4  \n",
      "28              2  \n",
      "29             12  \n",
      "30              3  \n",
      "31             27  \n",
      "32             13  \n",
      "33              1  \n",
      "34             16  \n",
      "35              5  \n",
      "36              5  \n",
      "37             18  \n",
      "38              2  \n",
      "39              7  \n",
      "40              1  \n",
      "41              9  \n",
      "42             36  \n",
      "43              4  \n",
      "44              1  \n",
      "45             11  \n",
      "46             10  \n",
      "47              3  \n",
      "48              8  \n",
      "49              1  \n"
     ]
    }
   ],
   "source": [
    "u = uss[0]\n",
    "print(u)"
   ]
  },
  {
   "cell_type": "code",
   "execution_count": 39,
   "metadata": {},
   "outputs": [
    {
     "name": "stdout",
     "output_type": "stream",
     "text": [
      "<class 'list'>\n"
     ]
    }
   ],
   "source": [
    "url = 'http://www.fdic.gov/bank/individual/failed/banklist.html'\n",
    "\n",
    "df6 = pd.read_html(url)\n",
    "\n",
    "print(type(df6))"
   ]
  },
  {
   "cell_type": "code",
   "execution_count": 40,
   "metadata": {},
   "outputs": [
    {
     "name": "stdout",
     "output_type": "stream",
     "text": [
      "                               Bank Name        City  ST   CERT  \\\n",
      "0       City National Bank of New Jersey      Newark  NJ  21111   \n",
      "1                          Resolute Bank      Maumee  OH  58317   \n",
      "2                  Louisa Community Bank      Louisa  KY  58112   \n",
      "3                   The Enloe State Bank      Cooper  TX  10716   \n",
      "4    Washington Federal Bank for Savings     Chicago  IL  30570   \n",
      "..                                   ...         ...  ..    ...   \n",
      "554                   Superior Bank, FSB    Hinsdale  IL  32646   \n",
      "555                  Malta National Bank       Malta  OH   6629   \n",
      "556      First Alliance Bank & Trust Co.  Manchester  NH  34264   \n",
      "557    National State Bank of Metropolis  Metropolis  IL   3815   \n",
      "558                     Bank of Honolulu    Honolulu  HI  21029   \n",
      "\n",
      "                   Acquiring Institution       Closing Date       Updated Date  \n",
      "0                        Industrial Bank   November 1, 2019   November 7, 2019  \n",
      "1                     Buckeye State Bank   October 25, 2019  November 12, 2019  \n",
      "2      Kentucky Farmers Bank Corporation   October 25, 2019   November 7, 2019  \n",
      "3                     Legend Bank, N. A.       May 31, 2019    August 22, 2019  \n",
      "4                     Royal Savings Bank  December 15, 2017      July 24, 2019  \n",
      "..                                   ...                ...                ...  \n",
      "554                Superior Federal, FSB      July 27, 2001    August 19, 2014  \n",
      "555                    North Valley Bank        May 3, 2001  November 18, 2002  \n",
      "556  Southern New Hampshire Bank & Trust   February 2, 2001  February 18, 2003  \n",
      "557              Banterra Bank of Marion  December 14, 2000     March 17, 2005  \n",
      "558                   Bank of the Orient   October 13, 2000     March 17, 2005  \n",
      "\n",
      "[559 rows x 7 columns]\n"
     ]
    }
   ],
   "source": [
    "df0 = df6[0]\n",
    "print(df0)"
   ]
  },
  {
   "cell_type": "code",
   "execution_count": 41,
   "metadata": {},
   "outputs": [],
   "source": [
    "newUrl = pd.read_html('https://en.wikipedia.org/wiki/List_of_World_Heritage_Sites_in_South_Korea')"
   ]
  },
  {
   "cell_type": "code",
   "execution_count": 42,
   "metadata": {},
   "outputs": [
    {
     "name": "stdout",
     "output_type": "stream",
     "text": [
      "                                                 Site  Image  \\\n",
      "0                Seokguram Grotto and Bulguksa Temple    NaN   \n",
      "1   Haeinsa Temple Janggyeong Panjeon, the Deposit...    NaN   \n",
      "2                                      Jongmyo Shrine    NaN   \n",
      "3                        Changdeokgung Palace Complex    NaN   \n",
      "4                                   Hwaseong Fortress    NaN   \n",
      "5            Gochang, Hwasun and Ganghwa Dolmen Sites    NaN   \n",
      "6                             Gyeongju Historic Areas    NaN   \n",
      "7                 Jeju Volcanic Island and Lava Tubes    NaN   \n",
      "8                   Royal Tombs of the Joseon Dynasty    NaN   \n",
      "9      Historic Villages of Korea: Hahoe and Yangdong    NaN   \n",
      "10                                     Namhansanseong    NaN   \n",
      "11                              Baekje Historic Areas    NaN   \n",
      "12      Sansa, Buddhist Mountain Monasteries in Korea    NaN   \n",
      "13             Seowon, Korean Neo-Confucian Academies    NaN   \n",
      "\n",
      "                                             Location  Year listed  \\\n",
      "0                                    North Gyeongsang         1995   \n",
      "1                                    South Gyeongsang         1995   \n",
      "2                                               Seoul         1995   \n",
      "3                                               Seoul         1997   \n",
      "4                                            Gyeonggi         1997   \n",
      "5              Incheon, North Jeolla and South Jeolla         2000   \n",
      "6                                    North Gyeongsang         2000   \n",
      "7                                                Jeju         2007   \n",
      "8                                  Gyeonggi and Seoul         2009   \n",
      "9                                    North Gyeongsang         2010   \n",
      "10                                           Gyeonggi         2014   \n",
      "11                 South Chungcheong and North Jeolla         2015   \n",
      "12  North Chungcheong, North Gyeongsang, South Chu...         2018   \n",
      "13  Daegu, North Gyeongsang, North Jeolla, South C...         2019   \n",
      "\n",
      "               UNESCO data Description  \n",
      "0         Cultural:(i)(iv)         [8]  \n",
      "1        Cultural:(iv)(vi)         [9]  \n",
      "2            Cultural:(iv)        [10]  \n",
      "3   Cultural:(ii)(iii)(iv)        [11]  \n",
      "4       Cultural:(ii)(iii)        [12]  \n",
      "5           Cultural:(iii)        [13]  \n",
      "6       Cultural:(ii)(iii)        [14]  \n",
      "7      Natural:(vii)(viii)        [15]  \n",
      "8   Cultural:(iii)(iv)(vi)        [16]  \n",
      "9       Cultural:(iii)(iv)        [17]  \n",
      "10       Cultural:(ii)(iv)        [18]  \n",
      "11      Cultural:(ii)(iii)        [19]  \n",
      "12          Cultural:(iii)        [20]  \n",
      "13          Cultural:(iii)        [21]  \n"
     ]
    }
   ],
   "source": [
    "newUr = newUrl[0]\n",
    "print(newUr)"
   ]
  },
  {
   "cell_type": "markdown",
   "metadata": {},
   "source": [
    "All the above html pages have only 1 table. If there are more than 1 table per webpage"
   ]
  },
  {
   "cell_type": "code",
   "execution_count": 44,
   "metadata": {},
   "outputs": [
    {
     "name": "stdout",
     "output_type": "stream",
     "text": [
      "                                                Name  Image  \\\n",
      "0  Baroque Churches of the Philippines: San Agust...    NaN   \n",
      "1                       Tubbataha Reefs Natural Park    NaN   \n",
      "2  Rice Terraces of the Philippine Cordilleras: B...    NaN   \n",
      "3                             Historic City of Vigan    NaN   \n",
      "4   Puerto Princesa Subterranean River National Park    NaN   \n",
      "5          Mount Hamiguitan Range Wildlife Sanctuary    NaN   \n",
      "\n",
      "                                           Location  \\\n",
      "0  City of Manila; Ilocos Sur; Ilocos Norte; Iloilo   \n",
      "1                                           Palawan   \n",
      "2                                            Ifugao   \n",
      "3                                        Ilocos Sur   \n",
      "4                                           Palawan   \n",
      "5                                    Davao Oriental   \n",
      "\n",
      "                              Regions  \\\n",
      "0  Manila; Ilocandia; Western Visayas   \n",
      "1                            Mimaropa   \n",
      "2                          Cordillera   \n",
      "3                           Ilocandia   \n",
      "4                            Mimaropa   \n",
      "5                               Davao   \n",
      "\n",
      "                                         UNESCO data             Period  \\\n",
      "0  1993 (inscription), 2013 (minor boundary modif...       16th century   \n",
      "1   1993 (inscription), 2009 (extension); vii, ix, x  Pleistocene Epoch   \n",
      "2                     1995 (inscription); iii, iv, v       16th century   \n",
      "3                         1999 (inscription); ii, iv       16th century   \n",
      "4                          1999 (inscription); vii,x  Pleistocene Epoch   \n",
      "5                              2014 (inscription); x  Pleistocene Epoch   \n",
      "\n",
      "                                         Description   Ref  \n",
      "0  All of the four baroque churches have been dec...   [5]  \n",
      "1  The site is one of the New7Wonders of Nature, ...   [6]  \n",
      "2  The inscription includes 5 properties, namely,...   [7]  \n",
      "3  The site is also one of the New7Wonders Cities...   [8]  \n",
      "4  The site is part of the Palawan UNESCO Biosphe...   [9]  \n",
      "5        The site is a declared ASEAN Heritage Park.  [10]  \n"
     ]
    }
   ],
   "source": [
    "pines = pd.read_html('https://en.wikipedia.org/wiki/List_of_World_Heritage_Sites_in_Philippines')\n",
    "pine = pines[0]\n",
    "print(pine)"
   ]
  },
  {
   "cell_type": "code",
   "execution_count": 45,
   "metadata": {},
   "outputs": [
    {
     "name": "stdout",
     "output_type": "stream",
     "text": [
      "                      Type (criteria)  \\\n",
      "0               Natural: (vii)(ix)(x)   \n",
      "1       Cultural: (i)(iii)(iv)(v)(vi)   \n",
      "2                               Mixed   \n",
      "3              Cultural: (iii)(iv)(v)   \n",
      "4                Natural: (vii)(viii)   \n",
      "5                 Mixed: (iii)(ix)(x)   \n",
      "6                    Natural: (ix)(x)   \n",
      "7   Cultural: (i)(ii)(iii)(iv)(v)(vi)   \n",
      "8                   Natural: (vii)(x)   \n",
      "9                    Natural: (ix)(x)   \n",
      "10              Natural: (vii)(ix)(x)   \n",
      "11                   Natural: (ix)(x)   \n",
      "12                   Natural: (ix)(x)   \n",
      "13         Cultural: (ii)(iii)(iv)(v)   \n",
      "14                   Natural: (ix)(x)   \n",
      "15         Cultural: (ii)(iii)(iv)(v)   \n",
      "16                    Cultural: (iii)   \n",
      "17         Cultural: (ii)(iii)(iv)(v)   \n",
      "18                   Natural: (ix)(x)   \n",
      "\n",
      "                                                 Site  \\\n",
      "0                               Apo Reef Natural Park   \n",
      "1   Baroque Churches of the Philippines (Extension...   \n",
      "2          Batanes Protected landscapes and seascapes   \n",
      "3                          Butuan Archeological Sites   \n",
      "4                    Chocolate Hills Natural Monument   \n",
      "5                    Coron Island Natural Biotic Area   \n",
      "6      El Nido-Taytay Managed Resource Protected Area   \n",
      "7                          Kabayan Mummy Burial Caves   \n",
      "8                  Mayon Volcano Natural Park (MMVNP)   \n",
      "9                     Mounts Iglit-Baco National Park   \n",
      "10                 Mount Malindang Range Natural Park   \n",
      "11            Mount Mantalingajan Protected Landscape   \n",
      "12                          Mount Pulag National Park   \n",
      "13  Neolithic Shell Midden Sites in Lal-lo and Gat...   \n",
      "14  Northern Sierra Madre Natural Park and outlyin...   \n",
      "15  Paleolithic Archaeological Sites in Cagayan Va...   \n",
      "16  Petroglyphs and Petrographs of the Philippines...   \n",
      "17           The Tabon Cave Complex and all of Lipuun   \n",
      "18                  Turtle Islands Wildlife Sanctuary   \n",
      "\n",
      "                              Location                        Period  \\\n",
      "0                             Sulu Sea             Pleistocene Epoch   \n",
      "1                    Various Locations        18th to 19th centuries   \n",
      "2                              Batanes  Pleistocene Epoch and 100 AD   \n",
      "3                     Agusan del Norte                  10th century   \n",
      "4                                Bohol             Pleistocene Epoch   \n",
      "5                              Palawan             Pleistocene Epoch   \n",
      "6                              Palawan             Pleistocene Epoch   \n",
      "7                              Benguet                        100 AD   \n",
      "8                                Albay             Pleistocene Epoch   \n",
      "9                              Mindoro             Pleistocene Epoch   \n",
      "10                  Misamis Occidental             Pleistocene Epoch   \n",
      "11                             Palawan             Pleistocene Epoch   \n",
      "12  Ifugao, Nueva Viscaya, and Benguet             Pleistocene Epoch   \n",
      "13                             Cagayan              Neolithic Period   \n",
      "14                             Isabela             Pleistocene Epoch   \n",
      "15                      Cagayan Valley            Paleolithic Period   \n",
      "16                  Multiple locations            Paleolithic Period   \n",
      "17                             Palawan            Paleolithic Period   \n",
      "18                           Tawi-Tawi             Pleistocene Epoch   \n",
      "\n",
      "                                          Description  Image   Ref  \n",
      "0   The site is the second biggest producer of juv...    NaN  [12]  \n",
      "1   All five baroque churches have been declared a...    NaN  [13]  \n",
      "2   The Mahatao Church of Batanes is a declared Na...    NaN  [14]  \n",
      "3   The site exemplified and concretized the capab...    NaN  [15]  \n",
      "4   The site is the focal property of the proposed...    NaN  [16]  \n",
      "5   The site is within the Palawan UNESCO Biospher...    NaN  [17]  \n",
      "6   The site is within the Palawan UNESCO Biospher...    NaN  [18]  \n",
      "7   The site has been listed by the World Monument...    NaN  [19]  \n",
      "8   The site is the central property of the Albay ...    NaN  [20]  \n",
      "9         The site is a declared ASEAN Heritage Park.    NaN  [21]  \n",
      "10        The site is a declared ASEAN Heritage Park.    NaN  [22]  \n",
      "11  The site is part of the Palawan UNESCO Biosphe...    NaN  [23]  \n",
      "12  The site is the third highest point in the Phi...    NaN  [24]  \n",
      "13  The site is the largest shell midden zone in t...    NaN  [25]  \n",
      "14  The site is the largest national park in the P...    NaN  [26]  \n",
      "15  The site includes the location where the bone ...    NaN  [27]  \n",
      "16  The sites in Singnapan, Alab, and Angono have ...    NaN  [28]  \n",
      "17  The site is a declared National Cultural Treas...    NaN  [29]  \n",
      "18  The site is a major green sea turtle breeding ...    NaN  [30]  \n"
     ]
    }
   ],
   "source": [
    "pine1 = pines[1]\n",
    "print(pine1)"
   ]
  },
  {
   "cell_type": "code",
   "execution_count": 46,
   "metadata": {},
   "outputs": [
    {
     "name": "stdout",
     "output_type": "stream",
     "text": [
      "  vteWorld Heritage Sites in the Philippines  \\\n",
      "0                                   Cultural   \n",
      "1                                    Natural   \n",
      "\n",
      "        vteWorld Heritage Sites in the Philippines.1  \\\n",
      "0  Baroque Churches of the Philippines (San Agust...   \n",
      "1  Mount Hamiguitan Range Wildlife Sanctuary Puer...   \n",
      "\n",
      "   vteWorld Heritage Sites in the Philippines.2  \n",
      "0                                           NaN  \n",
      "1                                           NaN  \n"
     ]
    }
   ],
   "source": [
    "pine2 = pines[2]\n",
    "print(pine2)"
   ]
  },
  {
   "cell_type": "markdown",
   "metadata": {},
   "source": [
    "# Read JSON data"
   ]
  },
  {
   "cell_type": "code",
   "execution_count": 50,
   "metadata": {},
   "outputs": [
    {
     "ename": "SyntaxError",
     "evalue": "(unicode error) 'unicodeescape' codec can't decode bytes in position 2-3: truncated \\UXXXXXXXX escape (<ipython-input-50-564fba9913b8>, line 1)",
     "output_type": "error",
     "traceback": [
      "\u001b[1;36m  File \u001b[1;32m\"<ipython-input-50-564fba9913b8>\"\u001b[1;36m, line \u001b[1;32m1\u001b[0m\n\u001b[1;33m    df7 = pd.read_json('C:\\Users\\hsripuram\\Desktop\\MLPractice\\PreProcessing\\example_1.json')\u001b[0m\n\u001b[1;37m                      ^\u001b[0m\n\u001b[1;31mSyntaxError\u001b[0m\u001b[1;31m:\u001b[0m (unicode error) 'unicodeescape' codec can't decode bytes in position 2-3: truncated \\UXXXXXXXX escape\n"
     ]
    }
   ],
   "source": [
    "df7 = pd.read_json('C:\\Users\\hsripuram\\Desktop\\MLPractice\\PreProcessing\\example_1.json')"
   ]
  },
  {
   "cell_type": "code",
   "execution_count": 51,
   "metadata": {},
   "outputs": [],
   "source": [
    "df8 = pd.read_json('https://api.github.com/repos/pydata/pandas/issues?per_page=5')"
   ]
  },
  {
   "cell_type": "code",
   "execution_count": 52,
   "metadata": {},
   "outputs": [
    {
     "data": {
      "text/html": [
       "<div>\n",
       "<style scoped>\n",
       "    .dataframe tbody tr th:only-of-type {\n",
       "        vertical-align: middle;\n",
       "    }\n",
       "\n",
       "    .dataframe tbody tr th {\n",
       "        vertical-align: top;\n",
       "    }\n",
       "\n",
       "    .dataframe thead th {\n",
       "        text-align: right;\n",
       "    }\n",
       "</style>\n",
       "<table border=\"1\" class=\"dataframe\">\n",
       "  <thead>\n",
       "    <tr style=\"text-align: right;\">\n",
       "      <th></th>\n",
       "      <th>url</th>\n",
       "      <th>repository_url</th>\n",
       "      <th>labels_url</th>\n",
       "      <th>comments_url</th>\n",
       "      <th>events_url</th>\n",
       "      <th>html_url</th>\n",
       "      <th>id</th>\n",
       "      <th>node_id</th>\n",
       "      <th>number</th>\n",
       "      <th>title</th>\n",
       "      <th>...</th>\n",
       "      <th>assignee</th>\n",
       "      <th>assignees</th>\n",
       "      <th>milestone</th>\n",
       "      <th>comments</th>\n",
       "      <th>created_at</th>\n",
       "      <th>updated_at</th>\n",
       "      <th>closed_at</th>\n",
       "      <th>author_association</th>\n",
       "      <th>pull_request</th>\n",
       "      <th>body</th>\n",
       "    </tr>\n",
       "  </thead>\n",
       "  <tbody>\n",
       "    <tr>\n",
       "      <td>0</td>\n",
       "      <td>https://api.github.com/repos/pandas-dev/pandas...</td>\n",
       "      <td>https://api.github.com/repos/pandas-dev/pandas</td>\n",
       "      <td>https://api.github.com/repos/pandas-dev/pandas...</td>\n",
       "      <td>https://api.github.com/repos/pandas-dev/pandas...</td>\n",
       "      <td>https://api.github.com/repos/pandas-dev/pandas...</td>\n",
       "      <td>https://github.com/pandas-dev/pandas/pull/29840</td>\n",
       "      <td>528277651</td>\n",
       "      <td>MDExOlB1bGxSZXF1ZXN0MzQ1MzY5Nzc5</td>\n",
       "      <td>29840</td>\n",
       "      <td>DEPR: remove FrozenNDarray</td>\n",
       "      <td>...</td>\n",
       "      <td>NaN</td>\n",
       "      <td>[]</td>\n",
       "      <td>None</td>\n",
       "      <td>0</td>\n",
       "      <td>2019-11-25 19:02:52+00:00</td>\n",
       "      <td>2019-11-25 19:02:52+00:00</td>\n",
       "      <td>NaT</td>\n",
       "      <td>MEMBER</td>\n",
       "      <td>{'url': 'https://api.github.com/repos/pandas-d...</td>\n",
       "      <td>Reboots #29335.</td>\n",
       "    </tr>\n",
       "    <tr>\n",
       "      <td>1</td>\n",
       "      <td>https://api.github.com/repos/pandas-dev/pandas...</td>\n",
       "      <td>https://api.github.com/repos/pandas-dev/pandas</td>\n",
       "      <td>https://api.github.com/repos/pandas-dev/pandas...</td>\n",
       "      <td>https://api.github.com/repos/pandas-dev/pandas...</td>\n",
       "      <td>https://api.github.com/repos/pandas-dev/pandas...</td>\n",
       "      <td>https://github.com/pandas-dev/pandas/issues/29839</td>\n",
       "      <td>528239797</td>\n",
       "      <td>MDU6SXNzdWU1MjgyMzk3OTc=</td>\n",
       "      <td>29839</td>\n",
       "      <td>PERF: improve Integer/BooleanArray astype to n...</td>\n",
       "      <td>...</td>\n",
       "      <td>NaN</td>\n",
       "      <td>[]</td>\n",
       "      <td>{'url': 'https://api.github.com/repos/pandas-d...</td>\n",
       "      <td>1</td>\n",
       "      <td>2019-11-25 17:45:38+00:00</td>\n",
       "      <td>2019-11-25 18:01:59+00:00</td>\n",
       "      <td>NaT</td>\n",
       "      <td>MEMBER</td>\n",
       "      <td>NaN</td>\n",
       "      <td>Currently, in the IntegerArray or BooleanArray...</td>\n",
       "    </tr>\n",
       "    <tr>\n",
       "      <td>2</td>\n",
       "      <td>https://api.github.com/repos/pandas-dev/pandas...</td>\n",
       "      <td>https://api.github.com/repos/pandas-dev/pandas</td>\n",
       "      <td>https://api.github.com/repos/pandas-dev/pandas...</td>\n",
       "      <td>https://api.github.com/repos/pandas-dev/pandas...</td>\n",
       "      <td>https://api.github.com/repos/pandas-dev/pandas...</td>\n",
       "      <td>https://github.com/pandas-dev/pandas/issues/29838</td>\n",
       "      <td>528237789</td>\n",
       "      <td>MDU6SXNzdWU1MjgyMzc3ODk=</td>\n",
       "      <td>29838</td>\n",
       "      <td>PERF: improve conversion to BooleanArray from ...</td>\n",
       "      <td>...</td>\n",
       "      <td>NaN</td>\n",
       "      <td>[]</td>\n",
       "      <td>{'url': 'https://api.github.com/repos/pandas-d...</td>\n",
       "      <td>0</td>\n",
       "      <td>2019-11-25 17:41:38+00:00</td>\n",
       "      <td>2019-11-25 17:41:39+00:00</td>\n",
       "      <td>NaT</td>\n",
       "      <td>MEMBER</td>\n",
       "      <td>NaN</td>\n",
       "      <td>Currently, the creation of a BooleanArray from...</td>\n",
       "    </tr>\n",
       "    <tr>\n",
       "      <td>3</td>\n",
       "      <td>https://api.github.com/repos/pandas-dev/pandas...</td>\n",
       "      <td>https://api.github.com/repos/pandas-dev/pandas</td>\n",
       "      <td>https://api.github.com/repos/pandas-dev/pandas...</td>\n",
       "      <td>https://api.github.com/repos/pandas-dev/pandas...</td>\n",
       "      <td>https://api.github.com/repos/pandas-dev/pandas...</td>\n",
       "      <td>https://github.com/pandas-dev/pandas/issues/29837</td>\n",
       "      <td>528235995</td>\n",
       "      <td>MDU6SXNzdWU1MjgyMzU5OTU=</td>\n",
       "      <td>29837</td>\n",
       "      <td>groupby() drops categorical columns when aggre...</td>\n",
       "      <td>...</td>\n",
       "      <td>NaN</td>\n",
       "      <td>[]</td>\n",
       "      <td>None</td>\n",
       "      <td>2</td>\n",
       "      <td>2019-11-25 17:37:52+00:00</td>\n",
       "      <td>2019-11-25 18:16:28+00:00</td>\n",
       "      <td>NaT</td>\n",
       "      <td>NONE</td>\n",
       "      <td>NaN</td>\n",
       "      <td>#### Code Sample, a copy-pastable example if p...</td>\n",
       "    </tr>\n",
       "    <tr>\n",
       "      <td>4</td>\n",
       "      <td>https://api.github.com/repos/pandas-dev/pandas...</td>\n",
       "      <td>https://api.github.com/repos/pandas-dev/pandas</td>\n",
       "      <td>https://api.github.com/repos/pandas-dev/pandas...</td>\n",
       "      <td>https://api.github.com/repos/pandas-dev/pandas...</td>\n",
       "      <td>https://api.github.com/repos/pandas-dev/pandas...</td>\n",
       "      <td>https://github.com/pandas-dev/pandas/pull/29836</td>\n",
       "      <td>528196106</td>\n",
       "      <td>MDExOlB1bGxSZXF1ZXN0MzQ1MzA1MDYw</td>\n",
       "      <td>29836</td>\n",
       "      <td>XLSB support</td>\n",
       "      <td>...</td>\n",
       "      <td>NaN</td>\n",
       "      <td>[]</td>\n",
       "      <td>None</td>\n",
       "      <td>1</td>\n",
       "      <td>2019-11-25 16:26:33+00:00</td>\n",
       "      <td>2019-11-25 18:58:55+00:00</td>\n",
       "      <td>NaT</td>\n",
       "      <td>NONE</td>\n",
       "      <td>{'url': 'https://api.github.com/repos/pandas-d...</td>\n",
       "      <td>Hey all, a moderately commonly requested featu...</td>\n",
       "    </tr>\n",
       "  </tbody>\n",
       "</table>\n",
       "<p>5 rows × 24 columns</p>\n",
       "</div>"
      ],
      "text/plain": [
       "                                                 url  \\\n",
       "0  https://api.github.com/repos/pandas-dev/pandas...   \n",
       "1  https://api.github.com/repos/pandas-dev/pandas...   \n",
       "2  https://api.github.com/repos/pandas-dev/pandas...   \n",
       "3  https://api.github.com/repos/pandas-dev/pandas...   \n",
       "4  https://api.github.com/repos/pandas-dev/pandas...   \n",
       "\n",
       "                                   repository_url  \\\n",
       "0  https://api.github.com/repos/pandas-dev/pandas   \n",
       "1  https://api.github.com/repos/pandas-dev/pandas   \n",
       "2  https://api.github.com/repos/pandas-dev/pandas   \n",
       "3  https://api.github.com/repos/pandas-dev/pandas   \n",
       "4  https://api.github.com/repos/pandas-dev/pandas   \n",
       "\n",
       "                                          labels_url  \\\n",
       "0  https://api.github.com/repos/pandas-dev/pandas...   \n",
       "1  https://api.github.com/repos/pandas-dev/pandas...   \n",
       "2  https://api.github.com/repos/pandas-dev/pandas...   \n",
       "3  https://api.github.com/repos/pandas-dev/pandas...   \n",
       "4  https://api.github.com/repos/pandas-dev/pandas...   \n",
       "\n",
       "                                        comments_url  \\\n",
       "0  https://api.github.com/repos/pandas-dev/pandas...   \n",
       "1  https://api.github.com/repos/pandas-dev/pandas...   \n",
       "2  https://api.github.com/repos/pandas-dev/pandas...   \n",
       "3  https://api.github.com/repos/pandas-dev/pandas...   \n",
       "4  https://api.github.com/repos/pandas-dev/pandas...   \n",
       "\n",
       "                                          events_url  \\\n",
       "0  https://api.github.com/repos/pandas-dev/pandas...   \n",
       "1  https://api.github.com/repos/pandas-dev/pandas...   \n",
       "2  https://api.github.com/repos/pandas-dev/pandas...   \n",
       "3  https://api.github.com/repos/pandas-dev/pandas...   \n",
       "4  https://api.github.com/repos/pandas-dev/pandas...   \n",
       "\n",
       "                                            html_url         id  \\\n",
       "0    https://github.com/pandas-dev/pandas/pull/29840  528277651   \n",
       "1  https://github.com/pandas-dev/pandas/issues/29839  528239797   \n",
       "2  https://github.com/pandas-dev/pandas/issues/29838  528237789   \n",
       "3  https://github.com/pandas-dev/pandas/issues/29837  528235995   \n",
       "4    https://github.com/pandas-dev/pandas/pull/29836  528196106   \n",
       "\n",
       "                            node_id  number  \\\n",
       "0  MDExOlB1bGxSZXF1ZXN0MzQ1MzY5Nzc5   29840   \n",
       "1          MDU6SXNzdWU1MjgyMzk3OTc=   29839   \n",
       "2          MDU6SXNzdWU1MjgyMzc3ODk=   29838   \n",
       "3          MDU6SXNzdWU1MjgyMzU5OTU=   29837   \n",
       "4  MDExOlB1bGxSZXF1ZXN0MzQ1MzA1MDYw   29836   \n",
       "\n",
       "                                               title  ... assignee assignees  \\\n",
       "0                         DEPR: remove FrozenNDarray  ...      NaN        []   \n",
       "1  PERF: improve Integer/BooleanArray astype to n...  ...      NaN        []   \n",
       "2  PERF: improve conversion to BooleanArray from ...  ...      NaN        []   \n",
       "3  groupby() drops categorical columns when aggre...  ...      NaN        []   \n",
       "4                                       XLSB support  ...      NaN        []   \n",
       "\n",
       "                                           milestone  comments  \\\n",
       "0                                               None         0   \n",
       "1  {'url': 'https://api.github.com/repos/pandas-d...         1   \n",
       "2  {'url': 'https://api.github.com/repos/pandas-d...         0   \n",
       "3                                               None         2   \n",
       "4                                               None         1   \n",
       "\n",
       "                 created_at                updated_at closed_at  \\\n",
       "0 2019-11-25 19:02:52+00:00 2019-11-25 19:02:52+00:00       NaT   \n",
       "1 2019-11-25 17:45:38+00:00 2019-11-25 18:01:59+00:00       NaT   \n",
       "2 2019-11-25 17:41:38+00:00 2019-11-25 17:41:39+00:00       NaT   \n",
       "3 2019-11-25 17:37:52+00:00 2019-11-25 18:16:28+00:00       NaT   \n",
       "4 2019-11-25 16:26:33+00:00 2019-11-25 18:58:55+00:00       NaT   \n",
       "\n",
       "   author_association                                       pull_request  \\\n",
       "0              MEMBER  {'url': 'https://api.github.com/repos/pandas-d...   \n",
       "1              MEMBER                                                NaN   \n",
       "2              MEMBER                                                NaN   \n",
       "3                NONE                                                NaN   \n",
       "4                NONE  {'url': 'https://api.github.com/repos/pandas-d...   \n",
       "\n",
       "                                                body  \n",
       "0                                    Reboots #29335.  \n",
       "1  Currently, in the IntegerArray or BooleanArray...  \n",
       "2  Currently, the creation of a BooleanArray from...  \n",
       "3  #### Code Sample, a copy-pastable example if p...  \n",
       "4  Hey all, a moderately commonly requested featu...  \n",
       "\n",
       "[5 rows x 24 columns]"
      ]
     },
     "execution_count": 52,
     "metadata": {},
     "output_type": "execute_result"
    }
   ],
   "source": [
    "df8.head()"
   ]
  },
  {
   "cell_type": "code",
   "execution_count": null,
   "metadata": {},
   "outputs": [],
   "source": []
  }
 ],
 "metadata": {
  "kernelspec": {
   "display_name": "Python 3",
   "language": "python",
   "name": "python3"
  },
  "language_info": {
   "codemirror_mode": {
    "name": "ipython",
    "version": 3
   },
   "file_extension": ".py",
   "mimetype": "text/x-python",
   "name": "python",
   "nbconvert_exporter": "python",
   "pygments_lexer": "ipython3",
   "version": "3.7.4"
  }
 },
 "nbformat": 4,
 "nbformat_minor": 2
}
